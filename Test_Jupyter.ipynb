{
 "cells": [
  {
   "cell_type": "code",
   "execution_count": 2,
   "metadata": {},
   "outputs": [
    {
     "name": "stdout",
     "output_type": "stream",
     "text": [
      "WARNING:tensorflow:From /home/bhavesh/.local/lib/python3.6/site-packages/keras/backend/tensorflow_backend.py:4070: The name tf.nn.max_pool is deprecated. Please use tf.nn.max_pool2d instead.\n",
      "\n"
     ]
    }
   ],
   "source": [
    "import cv2\n",
    "from face_detection import face\n",
    "from keras.models import load_model\n",
    "import numpy as np\n",
    "import os\n",
    "from embedding import emb\n",
    "from retreive_pymongo_data import database\n",
    "import warnings\n",
    "warnings.filterwarnings(\"ignore\")\n",
    "\n",
    "label=None\n",
    "\n",
    "people=sorted(os.listdir('people'))\n",
    "\n",
    "abhi=None\n",
    "def Create_labels():\n",
    "    people=sorted(os.listdir('people'))\n",
    "    students={}\n",
    "    for i in people:\n",
    "        students[(int(i[0])-1)]=i[1:]\n",
    "    return students\n",
    "\n",
    "\n",
    "people=Create_labels()\n",
    "completed_label=\"Attendance is Completed\"\n",
    "#data=database()\n",
    "e=emb()\n",
    "fd=face()"
   ]
  },
  {
   "cell_type": "code",
   "execution_count": 3,
   "metadata": {},
   "outputs": [
    {
     "name": "stdout",
     "output_type": "stream",
     "text": [
      "WARNING:tensorflow:From /home/bhavesh/.local/lib/python3.6/site-packages/keras/backend/tensorflow_backend.py:422: The name tf.global_variables is deprecated. Please use tf.compat.v1.global_variables instead.\n",
      "\n"
     ]
    }
   ],
   "source": [
    "a={0:0,1:0,2:0}\n",
    "\n",
    "model=load_model('face_reco2.MODEL')\n",
    "abhi=None\n",
    "\n",
    "def test():\n",
    "    test_run=cv2.imread('2.jpg',1)\n",
    "    test_run=cv2.resize(test_run,(160,160))\n",
    "    #test_run=np.rollaxis(test_run,2,0)\n",
    "    test_run=test_run.astype('float')/255.0\n",
    "    test_run=np.expand_dims(test_run,axis=0)\n",
    "    test_run=e.calculate(test_run)\n",
    "    test_run=np.expand_dims(test_run,axis=0)\n",
    "    test_run=model.predict(test_run)[0]\n",
    "\n",
    "color=(0, 255, 0) \n",
    "cap=cv2.VideoCapture(0)\n",
    "ret=True"
   ]
  },
  {
   "cell_type": "code",
   "execution_count": 6,
   "metadata": {},
   "outputs": [
    {
     "data": {
      "text/plain": [
       "{0: 'bhavesh', 1: 'kushagra', 2: 'rishabh'}"
      ]
     },
     "execution_count": 6,
     "metadata": {},
     "output_type": "execute_result"
    }
   ],
   "source": [
    "people"
   ]
  },
  {
   "cell_type": "code",
   "execution_count": 7,
   "metadata": {},
   "outputs": [
    {
     "data": {
      "text/plain": [
       "{0: 0, 1: 0, 2: 0}"
      ]
     },
     "execution_count": 7,
     "metadata": {},
     "output_type": "execute_result"
    }
   ],
   "source": [
    "a\n"
   ]
  },
  {
   "cell_type": "code",
   "execution_count": null,
   "metadata": {
    "scrolled": true
   },
   "outputs": [],
   "source": [
    "color=(0, 255, 0) \n",
    "cap=cv2.VideoCapture(0)\n",
    "ret=True\n",
    "#test()\n",
    "while ret:\n",
    "    ret,frame=cap.read()\n",
    "    frame=cv2.flip(frame,1)\n",
    "    det,coor=fd.detectFace(frame)\n",
    "\n",
    "    if(det is not None):\n",
    "        for i in range(len(det)):\n",
    "            detected=det[i]\n",
    "            k=coor[i]\n",
    "            f=detected\n",
    "            detected=cv2.resize(detected,(160,160))\n",
    "            #detected=np.rollaxis(detected,2,0)\n",
    "            detected=detected.astype('float')/255.0\n",
    "            detected=np.expand_dims(detected,axis=0)\n",
    "            feed=e.calculate(detected)\n",
    "            feed=np.expand_dims(feed,axis=0)\n",
    "            prediction=model.predict(feed)[0]\n",
    "\n",
    "            result=int(np.argmax(prediction))\n",
    "\n",
    "            if(np.max(prediction)>.80):\n",
    "                for i in people:\n",
    "                    if(result==i):\n",
    "                        label=people[i]\n",
    "                        \n",
    "                        if(a[i]<30):\n",
    "                            #print(\"a\")\n",
    "                            a[i]=a[i]+1\n",
    "                            abhi=i\n",
    "            else:\n",
    "                label='unknown'\n",
    "            #data.update(label)\n",
    "\n",
    "\n",
    "            \n",
    "            if(int(a[abhi])==30):   \n",
    "                cv2.putText(frame,completed_label,(k[0],k[1]),cv2.FONT_HERSHEY_SIMPLEX,1,(255,255,255),2)\n",
    "                cv2.rectangle(frame,(k[0],k[1]),(k[0]+k[2],k[1]+k[3]),(0,255,0),3)\n",
    "            else:\n",
    "                cv2.putText(frame,label,(k[0],k[1]),cv2.FONT_HERSHEY_SIMPLEX,1,(255,255,255),2)\n",
    "                cv2.rectangle(frame,(k[0],k[1]),(k[0]+k[2],k[1]+k[3]),(255,0,0),3)\n",
    "\n",
    "            \n",
    "            cv2.imshow('onlyFace',f)\n",
    "    cv2.imshow('frame',frame)\n",
    "    if(cv2.waitKey(1) & 0XFF==ord('q')):\n",
    "        break\n",
    "cap.release()\n",
    "cv2.destroyAllWindows()\n",
    "data.export_csv()"
   ]
  },
  {
   "cell_type": "code",
   "execution_count": 184,
   "metadata": {},
   "outputs": [],
   "source": [
    "\n",
    "from pymongo import MongoClient\n",
    "import pandas as pd\n",
    "\n",
    "class database:\n",
    "    def __init__(self):\n",
    "        self.client=MongoClient()\n",
    "        self.db=self.client.students\n",
    "        self.name=[]\n",
    "        self.attendance=[]\n",
    "\n",
    "    def update(self,name):\n",
    "        self.db.Attendance.update_one({\"name\":name},{\"$inc\":{\"Attendance\":1}})\n",
    "\n",
    "\n",
    "    def view(self):\n",
    "        self.name=[]\n",
    "        self.attendance=[]\n",
    "        records=self.db.Attendance.find()\n",
    "        j=0\n",
    "        for i in records:\n",
    "            j=j+1\n",
    "            print(i[\"Name\"])\n",
    "            self.name.append(i[\"Name\"])\n",
    "            #self.Attendance.append(i[Attendance])\n",
    "#         for i in range(j):\n",
    "#             print(self.name[i],self.attendance[i])\n",
    "\n",
    "    def export_csv(self,lecture):\n",
    "        df=pd.DataFrame(columns=[\"Roll Number\",\"Name\",\"Attendance\"])\n",
    "        records=self.db.Attendance.find()\n",
    "        for i in records:\n",
    "            to_append=[i[\"Roll_number\"],i[\"Name\"],i[\"Attendance\"]]\n",
    "            a_series = pd.Series(to_append, index = df.columns)\n",
    "            df=df.append(a_series,ignore_index=True)\n",
    "        CSV_Name=lecture+\"_Attendance.csv\"\n",
    "        df.to_csv(CSV_Name,index=True)"
   ]
  },
  {
   "cell_type": "code",
   "execution_count": 185,
   "metadata": {},
   "outputs": [],
   "source": [
    "data=database()"
   ]
  },
  {
   "cell_type": "code",
   "execution_count": 186,
   "metadata": {},
   "outputs": [
    {
     "name": "stdout",
     "output_type": "stream",
     "text": [
      "  Roll Number     Name  Attendance\n",
      "0           1  bhavesh         2.0\n",
      "  Roll Number      Name  Attendance\n",
      "0           1   bhavesh         2.0\n",
      "1           2  kushagra         0.0\n",
      "  Roll Number      Name  Attendance\n",
      "0           1   bhavesh         2.0\n",
      "1           2  kushagra         0.0\n",
      "2           3   rishabh         0.0\n"
     ]
    }
   ],
   "source": [
    "data.export_csv(\"Hindi\")"
   ]
  },
  {
   "cell_type": "code",
   "execution_count": null,
   "metadata": {},
   "outputs": [],
   "source": []
  }
 ],
 "metadata": {
  "kernelspec": {
   "display_name": "Python 3",
   "language": "python",
   "name": "python3"
  },
  "language_info": {
   "codemirror_mode": {
    "name": "ipython",
    "version": 3
   },
   "file_extension": ".py",
   "mimetype": "text/x-python",
   "name": "python",
   "nbconvert_exporter": "python",
   "pygments_lexer": "ipython3",
   "version": "3.6.9"
  }
 },
 "nbformat": 4,
 "nbformat_minor": 4
}
